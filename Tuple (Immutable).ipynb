{
 "cells": [
  {
   "cell_type": "markdown",
   "id": "36ad1511",
   "metadata": {},
   "source": [
    "# Tuples\n",
    "- What is a Tuple? \n",
    "\n",
    "A Tuple is a collection of Python objects like integer, floating number, strings which are separated by commas. In some ways, a tuple is similar to a list in terms of indexing, nested objects, and repetition but a tuple is immutable, unlike lists that are mutable."
   ]
  },
  {
   "cell_type": "code",
   "execution_count": 1,
   "id": "27193034",
   "metadata": {},
   "outputs": [
    {
     "name": "stdout",
     "output_type": "stream",
     "text": [
      "deepanshu\n",
      "<class 'tuple'>\n"
     ]
    }
   ],
   "source": [
    "t=('deepanshu',)\n",
    "for i in t:\n",
    "    print(i)\n",
    "print(type(t))"
   ]
  },
  {
   "cell_type": "code",
   "execution_count": 2,
   "id": "0cca2e4a",
   "metadata": {},
   "outputs": [
    {
     "name": "stdout",
     "output_type": "stream",
     "text": [
      "d\n",
      "e\n",
      "e\n",
      "p\n",
      "a\n",
      "n\n",
      "s\n",
      "h\n",
      "u\n",
      "<class 'str'>\n"
     ]
    }
   ],
   "source": [
    "t=('deepanshu')\n",
    "for i in t:\n",
    "    print(i)\n",
    "print(type(t))"
   ]
  },
  {
   "cell_type": "code",
   "execution_count": 11,
   "id": "d1e06928",
   "metadata": {},
   "outputs": [
    {
     "name": "stdout",
     "output_type": "stream",
     "text": [
      "<class 'tuple'>\n"
     ]
    }
   ],
   "source": [
    "t=('deepanshu',)\n",
    "print(type(t))"
   ]
  },
  {
   "cell_type": "code",
   "execution_count": 3,
   "id": "9083c460",
   "metadata": {},
   "outputs": [
    {
     "name": "stdout",
     "output_type": "stream",
     "text": [
      "m\n",
      "deepanshuverma\n",
      "<class 'str'>\n"
     ]
    }
   ],
   "source": [
    "t='deepanshu''verma'\n",
    "print(t[12])\n",
    "print(t)\n",
    "print(type(t))"
   ]
  },
  {
   "cell_type": "code",
   "execution_count": 1,
   "id": "ca38da9c",
   "metadata": {
    "scrolled": true
   },
   "outputs": [],
   "source": [
    "t='deepanshu','verma'\n",
    "# print(type(t))\n",
    "# print(t[1])\n",
    "# print(t)\n",
    "# print(type(t))\n",
    "# print(t[0].upper())\n",
    "# print(t[0][0].split())\n",
    "# print(t[0].strip())\n",
    "# print('/'.join(t[0]))\n",
    "# print(t[0].replace('d','D'))\n",
    "# print(t.replace('verma','sharma'))\n",
    "# print(t[1].find('verma'))\n",
    "# print(t[0].clear())\n",
    "# print(t)\n",
    "# del t\n",
    "# print(t)\n",
    "# a=str(t)\n",
    "# print(a)\n",
    "# print(a.replace('verma','sharma'))"
   ]
  },
  {
   "cell_type": "code",
   "execution_count": 4,
   "id": "3233b0ff",
   "metadata": {},
   "outputs": [
    {
     "data": {
      "text/plain": [
       "['1', '2', '3', '4', '5', '6', '7', '8']"
      ]
     },
     "execution_count": 4,
     "metadata": {},
     "output_type": "execute_result"
    }
   ],
   "source": [
    "a=(\"1,2,3,4,5,6,7,8\")\n",
    "a.split(\",\")b"
   ]
  },
  {
   "cell_type": "code",
   "execution_count": 13,
   "id": "5eb46a0e",
   "metadata": {},
   "outputs": [
    {
     "data": {
      "text/plain": [
       "'12345678'"
      ]
     },
     "execution_count": 13,
     "metadata": {},
     "output_type": "execute_result"
    }
   ],
   "source": [
    "a=(\"1,2,3,4,5,6,7,8\")\n",
    "b=a.split(\",\")\n",
    "b\n",
    "\"\".join(b)"
   ]
  },
  {
   "cell_type": "code",
   "execution_count": null,
   "id": "898f90fa",
   "metadata": {},
   "outputs": [],
   "source": [
    "a=(12345678)\n",
    "b=(','.join(a))\n",
    "print(b)\n",
    "print(type(a))"
   ]
  },
  {
   "cell_type": "code",
   "execution_count": 18,
   "id": "00f54566",
   "metadata": {},
   "outputs": [
    {
     "name": "stdout",
     "output_type": "stream",
     "text": [
      "(1, 2, 3, 4, 5, 6, 7, 8)\n",
      "<class 'tuple'>\n",
      "(1, 2, 3, 4, 5, 6, 7, 8)\n",
      "<class 'str'>\n",
      "(1/ 2/ 3/ 4/ 5/ 6/ 7/ 8)\n"
     ]
    }
   ],
   "source": [
    "a=1,2,3,4,5,6,7,8\n",
    "print(a)\n",
    "print(type(a))\n",
    "b=str(a)\n",
    "print(b)\n",
    "print(type(b))\n",
    "d=b.replace(\",\",\"/\")\n",
    "print(d)"
   ]
  },
  {
   "cell_type": "code",
   "execution_count": 1,
   "id": "5b917858",
   "metadata": {},
   "outputs": [
    {
     "name": "stdout",
     "output_type": "stream",
     "text": [
      "('deepanshu', 'verma', 'deepanshu', 'verma')\n"
     ]
    }
   ],
   "source": [
    "t='deepanshu','verma'\n",
    "a='deepanshu','verma'\n",
    "print(t+a)"
   ]
  },
  {
   "cell_type": "code",
   "execution_count": 20,
   "id": "da316f23",
   "metadata": {},
   "outputs": [
    {
     "name": "stdout",
     "output_type": "stream",
     "text": [
      "<class 'str'>\n"
     ]
    }
   ],
   "source": [
    "t='deep,ans,hu'\n",
    "print(type(t))"
   ]
  },
  {
   "cell_type": "code",
   "execution_count": 2,
   "id": "65e4c5d8",
   "metadata": {},
   "outputs": [
    {
     "name": "stdout",
     "output_type": "stream",
     "text": [
      "hu\n",
      "<class 'tuple'>\n"
     ]
    }
   ],
   "source": [
    "t='deep','ans','hu',\n",
    "print(max(t))\n",
    "print(type(t))"
   ]
  },
  {
   "cell_type": "code",
   "execution_count": 20,
   "id": "e25e3055",
   "metadata": {},
   "outputs": [
    {
     "name": "stdout",
     "output_type": "stream",
     "text": [
      "Enter Input No.=4\n",
      "Enter No.=2\n",
      "Enter No.=4\n",
      "Enter No.=1\n",
      "Enter No.=8\n",
      "8\n",
      "1\n"
     ]
    }
   ],
   "source": [
    "x=[]\n",
    "n=int(input(\"Enter Input No.=\"))\n",
    "for i in range(1,n+1):\n",
    "    a=int(input(\"Enter No.=\"))\n",
    "    x.append(a)\n",
    "print(max(x))\n",
    "print(min(x))"
   ]
  },
  {
   "cell_type": "code",
   "execution_count": 1,
   "id": "3887afca",
   "metadata": {},
   "outputs": [
    {
     "name": "stdout",
     "output_type": "stream",
     "text": [
      "5\n",
      "<class 'tuple'>\n"
     ]
    }
   ],
   "source": [
    "t=(1,2,3,4,5)\n",
    "print(max(t))\n",
    "print(type(t))"
   ]
  },
  {
   "cell_type": "code",
   "execution_count": 7,
   "id": "c7a33d4e",
   "metadata": {},
   "outputs": [
    {
     "name": "stdout",
     "output_type": "stream",
     "text": [
      "<class 'tuple'>\n"
     ]
    }
   ],
   "source": [
    "t=1,2,3,4,5\n",
    "print(type(t))"
   ]
  },
  {
   "cell_type": "code",
   "execution_count": 51,
   "id": "fdce8f79",
   "metadata": {},
   "outputs": [
    {
     "name": "stdout",
     "output_type": "stream",
     "text": [
      "('the', 'over', 'jumps', 'fox', 'brown', 'quick', 'a')\n"
     ]
    }
   ],
   "source": [
    "tup=('a', 'quick', 'brown', 'fox', 'jumps', 'over', 'the', 'lazy', 'dog')\n",
    "# print(type(tup),tup)\n",
    "# print(len(tup))\n",
    "# print(tup[5])\n",
    "# print(tup[7])\n",
    "# print(tup[0:4])\n",
    "# print(tup[:21])\n",
    "# print(tup[0:41])\n",
    "# print(tup[0:])\n",
    "# print(tup[100])\n",
    "# print(tup[0:100])\n",
    "# print(tup[100:0])\n",
    "# print(tup[0:42:2])\n",
    "# print(tup[0:42:10])\n",
    "# print(tup[0:42:100])\n",
    "# print(tup[::])\n",
    "# print(tup[0:41:1])\n",
    "# print(tup[::1])\n",
    "# print(tup[::2])\n",
    "# print(tup[::50])\n",
    "# print(tup[19:25])\n",
    "# print(tup[19:])\n",
    "# print(tup[1:200])\n",
    "# print(tup[19:-5])\n",
    "# print(tup[:-3])\n",
    "# print(tup[-3:])\n",
    "# print(tup[0:-3])\n",
    "# print(tup[0:-3:2])\n",
    "# print(tup[-3:-2])\n",
    "# print(tup[-27:-24])\n",
    "# print(tup[-3:-11])\n",
    "# print(tup[-3:-11:-1])\n",
    "# print(tup[-3::-1])\n",
    "# print(tup[14:17])\n",
    "# print(tup[::-1])\n",
    "# print(tup[::-5])"
   ]
  },
  {
   "cell_type": "code",
   "execution_count": 67,
   "id": "18bc4108",
   "metadata": {},
   "outputs": [
    {
     "data": {
      "text/plain": [
       "'naman'"
      ]
     },
     "execution_count": 67,
     "metadata": {},
     "output_type": "execute_result"
    }
   ],
   "source": [
    "'madam'\n",
    "'level'\n",
    "'naman'\n"
   ]
  },
  {
   "cell_type": "code",
   "execution_count": 9,
   "id": "037af023",
   "metadata": {},
   "outputs": [
    {
     "name": "stdout",
     "output_type": "stream",
     "text": [
      "deepanshu\n"
     ]
    }
   ],
   "source": [
    "name=('deepanshu',)\n",
    "for i in name:\n",
    "    print(i)"
   ]
  },
  {
   "cell_type": "code",
   "execution_count": 59,
   "id": "e758ae20",
   "metadata": {},
   "outputs": [
    {
     "name": "stdout",
     "output_type": "stream",
     "text": [
      "('a', 'over')\n",
      "('dog', 'fox')\n"
     ]
    }
   ],
   "source": [
    "tup=('a', 'quick', 'brown', 'fox', 'jumps', 'over', 'the', 'lazy', 'dog')\n",
    "# print(tup[19:25])\n",
    "# print(tup[19:])\n",
    "# print(tup[1:200])\n",
    "# print(tup[19:-5])\n",
    "# print(tup[:-5])\n",
    "# print(tup[-3])\n",
    "# print(tup[-3:])\n",
    "# print(tup[0:-3])\n",
    "# print(tup[0:-3:2])\n",
    "# print(tup[-3:-2])\n",
    "# print(tup[-27:-24])\n",
    "# print(tup[-3:-11])\n",
    "# print(tup[-3:-3])\n",
    "# print(tup[14:17])\n",
    "# print(tup[::-1])\n",
    "# print(tup[::5])\n",
    "print(tup[::-5])"
   ]
  },
  {
   "cell_type": "code",
   "execution_count": 27,
   "id": "721da394",
   "metadata": {},
   "outputs": [
    {
     "name": "stdout",
     "output_type": "stream",
     "text": [
      "<class 'tuple'>\n"
     ]
    },
    {
     "ename": "TypeError",
     "evalue": "'tuple' object does not support item assignment",
     "output_type": "error",
     "traceback": [
      "\u001b[1;31m---------------------------------------------------------------------------\u001b[0m",
      "\u001b[1;31mTypeError\u001b[0m                                 Traceback (most recent call last)",
      "Input \u001b[1;32mIn [27]\u001b[0m, in \u001b[0;36m<cell line: 3>\u001b[1;34m()\u001b[0m\n\u001b[0;32m      1\u001b[0m t\u001b[38;5;241m=\u001b[39m(\u001b[38;5;241m1\u001b[39m,\u001b[38;5;241m2\u001b[39m,\u001b[38;5;241m3\u001b[39m,\u001b[38;5;241m4\u001b[39m,\u001b[38;5;241m5\u001b[39m,\u001b[38;5;241m6\u001b[39m,\u001b[38;5;241m7\u001b[39m,\u001b[38;5;241m80\u001b[39m)\n\u001b[0;32m      2\u001b[0m \u001b[38;5;28mprint\u001b[39m(\u001b[38;5;28mtype\u001b[39m(t))\n\u001b[1;32m----> 3\u001b[0m t[\u001b[38;5;241m6\u001b[39m]\u001b[38;5;241m=\u001b[39m\u001b[38;5;241m1000\u001b[39m\n",
      "\u001b[1;31mTypeError\u001b[0m: 'tuple' object does not support item assignment"
     ]
    }
   ],
   "source": [
    "t=(1,2,3,4,5,6,7,80)\n",
    "print(type(t))\n",
    "t[6]=1000"
   ]
  },
  {
   "cell_type": "markdown",
   "id": "94f03b8f",
   "metadata": {},
   "source": [
    "### tuple functions"
   ]
  },
  {
   "cell_type": "code",
   "execution_count": 33,
   "id": "e0eb2c2c",
   "metadata": {},
   "outputs": [],
   "source": [
    "# Packing and unpacking of tuples\n",
    "tup=('a', 'quick', 'brown', 'fox', 'jumps', 'over', 'the', 'lazy', 'dog') # packing of tuple\n",
    "a,b,c,d,e,f,g,h,i=tup # unpacking  tuple"
   ]
  },
  {
   "cell_type": "code",
   "execution_count": 28,
   "id": "3ec6b9c7",
   "metadata": {},
   "outputs": [
    {
     "data": {
      "text/plain": [
       "('a', 'quick', 'brown', 'fox', 'jumps', 'over', 'the', 'lazy', 'dog')"
      ]
     },
     "execution_count": 28,
     "metadata": {},
     "output_type": "execute_result"
    }
   ],
   "source": [
    "tup"
   ]
  },
  {
   "cell_type": "code",
   "execution_count": 30,
   "id": "dcf2cce6",
   "metadata": {},
   "outputs": [
    {
     "data": {
      "text/plain": [
       "50"
      ]
     },
     "execution_count": 30,
     "metadata": {},
     "output_type": "execute_result"
    }
   ],
   "source": [
    "a=10\n",
    "b=40\n",
    "c=a+b\n",
    "c"
   ]
  },
  {
   "cell_type": "code",
   "execution_count": 27,
   "id": "5cfb9e6e",
   "metadata": {},
   "outputs": [
    {
     "name": "stdout",
     "output_type": "stream",
     "text": [
      "a 1\n",
      "b 2\n",
      "a 2\n",
      "b 1\n"
     ]
    }
   ],
   "source": [
    "# a,b = 1,2\n",
    "# print('a',a)\n",
    "# print('b',b)\n",
    "# a,b=b,a\n",
    "# print('a',a)\n",
    "# print('b',b)\n"
   ]
  },
  {
   "cell_type": "code",
   "execution_count": 34,
   "id": "a8185806",
   "metadata": {},
   "outputs": [
    {
     "name": "stdout",
     "output_type": "stream",
     "text": [
      "Karan\n",
      "Tushar\n"
     ]
    }
   ],
   "source": [
    "a='Tushar'\n",
    "b='Karan'\n",
    "a,b=b,a\n",
    "print(a)\n",
    "print(b)"
   ]
  },
  {
   "cell_type": "code",
   "execution_count": null,
   "id": "fc7af886",
   "metadata": {},
   "outputs": [],
   "source": [
    "a= 1"
   ]
  },
  {
   "cell_type": "code",
   "execution_count": 37,
   "id": "9045b16a",
   "metadata": {},
   "outputs": [],
   "source": [
    "# a,b,c,d,e,f,g,h,i='a', 'quick', 'brown', 'fox', 'jumps', 'over', 'the', 'lazy', 'dog'"
   ]
  },
  {
   "cell_type": "code",
   "execution_count": 39,
   "id": "00838d3c",
   "metadata": {},
   "outputs": [
    {
     "name": "stdout",
     "output_type": "stream",
     "text": [
      "a\n",
      "<class 'str'> quick\n",
      "brown\n",
      "fox\n",
      "jumps\n",
      "over\n",
      "the\n",
      "lazy\n",
      "dog\n"
     ]
    }
   ],
   "source": [
    "print(a)\n",
    "print(type(b),b)\n",
    "print(c)\n",
    "print(d)\n",
    "print(e)\n",
    "print(f)\n",
    "print(g)\n",
    "print(h)\n",
    "print(i)"
   ]
  },
  {
   "cell_type": "code",
   "execution_count": 41,
   "id": "fb5312c0",
   "metadata": {},
   "outputs": [
    {
     "data": {
      "text/plain": [
       "tuple"
      ]
     },
     "execution_count": 41,
     "metadata": {},
     "output_type": "execute_result"
    }
   ],
   "source": [
    "i='a', 'quick', 'brown', 'fox', 'jumps', 'over', 'the', 'lazy', 'dog'\n",
    "type(i)"
   ]
  },
  {
   "cell_type": "code",
   "execution_count": 42,
   "id": "eb9d0c0f",
   "metadata": {},
   "outputs": [
    {
     "data": {
      "text/plain": [
       "list"
      ]
     },
     "execution_count": 42,
     "metadata": {},
     "output_type": "execute_result"
    }
   ],
   "source": [
    "i=['a', 'quick', 'brown', 'fox', 'jumps', 'over', 'the', 'lazy', 'dog']\n",
    "type(i)"
   ]
  },
  {
   "cell_type": "code",
   "execution_count": 14,
   "id": "0034228b",
   "metadata": {},
   "outputs": [],
   "source": [
    "# modifying tuples"
   ]
  },
  {
   "cell_type": "code",
   "execution_count": 24,
   "id": "43af6e3a",
   "metadata": {},
   "outputs": [
    {
     "name": "stdout",
     "output_type": "stream",
     "text": [
      "('a', 'jaldi', 'brown', 'fox', 'jumps', 'over', 'the', 'lazy', 'lion')\n"
     ]
    }
   ],
   "source": [
    "tup=('a', 'quick', 'brown', 'fox', 'jumps', 'over', 'the', 'lazy', 'dog') # packing of tuple\n",
    "a,b,c,d,e,f,g,h,i=tup # unpacking  tuple\n",
    "b='jaldi'\n",
    "i='lion'\n",
    "tup=(a,b,c,d,e,f,g,h,i)\n",
    "print(tup)"
   ]
  },
  {
   "cell_type": "code",
   "execution_count": 15,
   "id": "9e085271",
   "metadata": {},
   "outputs": [],
   "source": [
    "b='jaldi'\n",
    "i='cat'"
   ]
  },
  {
   "cell_type": "code",
   "execution_count": 17,
   "id": "292e3c85",
   "metadata": {},
   "outputs": [
    {
     "name": "stdout",
     "output_type": "stream",
     "text": [
      "('a', 'jaldi', 'brown', 'fox', 'jumps', 'over', 'the', 'lazy', 'cat')\n"
     ]
    }
   ],
   "source": [
    "tup=(a,b,c,d,e,f,g,h,i) # packing the tuple\n",
    "print(tup)"
   ]
  },
  {
   "cell_type": "code",
   "execution_count": 45,
   "id": "5395fd1a",
   "metadata": {},
   "outputs": [
    {
     "name": "stdout",
     "output_type": "stream",
     "text": [
      "<class 'tuple'>\n"
     ]
    }
   ],
   "source": [
    "print(type(tup))"
   ]
  },
  {
   "cell_type": "code",
   "execution_count": 11,
   "id": "52bcb21f",
   "metadata": {},
   "outputs": [
    {
     "name": "stdout",
     "output_type": "stream",
     "text": [
      "('a', 'jaldi', 'brown', 'fox', 'jumps', 'over', 'the', 'lazy', 'lion')\n"
     ]
    }
   ],
   "source": [
    "x=('a', 'quick', 'brown', 'fox', 'jumps', 'over', 'the', 'lazy', 'dog')\n",
    "a,b,c,d,e,f,g,h,i=x\n",
    "b='jaldi'\n",
    "i='lion'\n",
    "x=(a,b,c,d,e,f,g,h,i)\n",
    "print(x)"
   ]
  },
  {
   "cell_type": "code",
   "execution_count": 18,
   "id": "636ec9a7",
   "metadata": {},
   "outputs": [
    {
     "ename": "TypeError",
     "evalue": "'tuple' object does not support item assignment",
     "output_type": "error",
     "traceback": [
      "\u001b[1;31m---------------------------------------------------------------------------\u001b[0m",
      "\u001b[1;31mTypeError\u001b[0m                                 Traceback (most recent call last)",
      "\u001b[1;32m<ipython-input-18-14fffc8e6a7f>\u001b[0m in \u001b[0;36m<module>\u001b[1;34m\u001b[0m\n\u001b[0;32m      1\u001b[0m \u001b[1;31m# CHECKING MUTABILITY\u001b[0m\u001b[1;33m\u001b[0m\u001b[1;33m\u001b[0m\u001b[1;33m\u001b[0m\u001b[0m\n\u001b[0;32m      2\u001b[0m \u001b[1;33m\u001b[0m\u001b[0m\n\u001b[1;32m----> 3\u001b[1;33m \u001b[0mt\u001b[0m\u001b[1;33m[\u001b[0m\u001b[1;36m0\u001b[0m\u001b[1;33m]\u001b[0m\u001b[1;33m=\u001b[0m\u001b[1;34m'quick'\u001b[0m\u001b[1;33m\u001b[0m\u001b[1;33m\u001b[0m\u001b[0m\n\u001b[0m\u001b[0;32m      4\u001b[0m \u001b[0mprint\u001b[0m\u001b[1;33m(\u001b[0m\u001b[0mt\u001b[0m\u001b[1;33m)\u001b[0m\u001b[1;33m\u001b[0m\u001b[1;33m\u001b[0m\u001b[0m\n",
      "\u001b[1;31mTypeError\u001b[0m: 'tuple' object does not support item assignment"
     ]
    }
   ],
   "source": [
    "# CHECKING MUTABILITY\n",
    "\n",
    "t[0]='quick'\n",
    "print(t)"
   ]
  },
  {
   "cell_type": "code",
   "execution_count": 51,
   "id": "084ab22f",
   "metadata": {},
   "outputs": [
    {
     "name": "stdout",
     "output_type": "stream",
     "text": [
      "['a', 'quick', 'brown', 'fox', 'jumps', 'over', 'the', 'lazy', 'dog']\n",
      "<class 'str'>\n",
      "('a', ' ', 'q', 'u', 'i', 'c', 'k', ' ', 'b', 'r', 'o', 'w', 'n', ' ', 'f', 'o', 'x', ' ', 'j', 'u', 'm', 'p', 's', ' ', 'o', 'v', 'e', 'r', ' ', 't', 'h', 'e', ' ', 'l', 'a', 'z', 'y', ' ', 'd', 'o', 'g')\n",
      "<class 'tuple'>\n"
     ]
    }
   ],
   "source": [
    "mystr='a quick brown fox jumps over the lazy dog'\n",
    "print(mystr.split(' '))\n",
    "print(type(mystr))\n",
    "TUP=tuple(mystr)\n",
    "print(TUP)\n",
    "print(type(TUP))\n"
   ]
  },
  {
   "cell_type": "code",
   "execution_count": 49,
   "id": "cbe066b5",
   "metadata": {},
   "outputs": [
    {
     "name": "stdout",
     "output_type": "stream",
     "text": [
      "['a quick brown fox jumps over the lazy dog']\n",
      "['a', 'quick', 'brown', 'fox', 'jumps', 'over', 'the', 'lazy', 'dog']\n"
     ]
    }
   ],
   "source": [
    "mystr=['a quick brown fox jumps over the lazy dog']\n",
    "print(mystr)\n",
    "mystr=['a','quick','brown','fox','jumps','over','the','lazy','dog']\n",
    "print(mystr)"
   ]
  },
  {
   "cell_type": "code",
   "execution_count": 74,
   "id": "fc825765",
   "metadata": {},
   "outputs": [
    {
     "name": "stdout",
     "output_type": "stream",
     "text": [
      "<class 'tuple'>\n",
      "('a', 'quick', 'brown', 'fox', 'jumps', 'over', 'the', 'lazy', 'dog')\n",
      "quick\n",
      "['a', 'quick', 'brown', 'fox', 'jumps', 'over', 'the', 'lazy', 'dog']\n",
      "quick\n",
      "<class 'list'>\n"
     ]
    }
   ],
   "source": [
    "mystr=('a','quick','brown','fox','jumps','over','the','lazy','dog')\n",
    "print(type(mystr))\n",
    "print(mystr)\n",
    "print(mystr[1])\n",
    "l=list(mystr)\n",
    "print(l)\n",
    "print(l[1])\n",
    "print(type(l))\n",
    "d='a quick'"
   ]
  },
  {
   "cell_type": "code",
   "execution_count": 31,
   "id": "ed1beaae",
   "metadata": {},
   "outputs": [
    {
     "name": "stdout",
     "output_type": "stream",
     "text": [
      "('deepanshu', 'verma', 'verma', 'deepanshu')\n",
      "('verma', 'deepanshu', 'deepanshu', 'verma')\n"
     ]
    }
   ],
   "source": [
    "# concatenation\n",
    "tup1=('deepanshu','verma')\n",
    "tup2=('verma','deepanshu')\n",
    "print(tup1+tup2)\n",
    "print(tup2+tup1)\n"
   ]
  },
  {
   "cell_type": "code",
   "execution_count": 25,
   "id": "da149c0b",
   "metadata": {},
   "outputs": [
    {
     "name": "stdout",
     "output_type": "stream",
     "text": [
      "['deepanshu', 'verma', 'verma', 'deepanshu']\n",
      "['verma', 'deepanshu', 'deepanshu', 'verma']\n"
     ]
    }
   ],
   "source": [
    "tup1=['deepanshu','verma']\n",
    "tup2=['verma','deepanshu']\n",
    "print(tup1+tup2)\n",
    "print(tup2+tup1)\n"
   ]
  },
  {
   "cell_type": "code",
   "execution_count": 33,
   "id": "bbee98c0",
   "metadata": {},
   "outputs": [
    {
     "data": {
      "text/plain": [
       "['deepanshu', 'verma', 'verma', 'deepanshu']"
      ]
     },
     "execution_count": 33,
     "metadata": {},
     "output_type": "execute_result"
    }
   ],
   "source": [
    "tup1=['deepanshu','verma']\n",
    "tup2=['verma','deepanshu']\n",
    "tup1.extend(tup2)\n",
    "tup1"
   ]
  },
  {
   "cell_type": "code",
   "execution_count": 30,
   "id": "794b7abb",
   "metadata": {},
   "outputs": [
    {
     "name": "stdout",
     "output_type": "stream",
     "text": [
      "[1, 2, 3, 4, 5, 6, 7, 8]\n"
     ]
    }
   ],
   "source": [
    "a=[1,2,3,4]\n",
    "b=[5,6,7,8]\n",
    "a.extend(b)\n",
    "print(a)"
   ]
  },
  {
   "cell_type": "code",
   "execution_count": 66,
   "id": "5a89f843",
   "metadata": {},
   "outputs": [
    {
     "name": "stdout",
     "output_type": "stream",
     "text": [
      "('Tushar', 'Tomer', 'Tomer', 'Tushar')\n",
      "('Tomer', 'Tushar', 'Tushar', 'Tomer')\n",
      "<class 'tuple'>\n"
     ]
    }
   ],
   "source": [
    "a=('Tushar','Tomer')\n",
    "b=('Tomer','Tushar')\n",
    "print(a+b)\n",
    "print(b+a)\n",
    "print(type(a))"
   ]
  },
  {
   "cell_type": "code",
   "execution_count": 67,
   "id": "4cda8cd7",
   "metadata": {},
   "outputs": [
    {
     "name": "stdout",
     "output_type": "stream",
     "text": [
      "['Tushar', 'Tomer', 'Tomer', 'Tushar']\n",
      "['Tomer', 'Tushar', 'Tushar', 'Tomer']\n",
      "<class 'list'>\n"
     ]
    }
   ],
   "source": [
    "a=['Tushar','Tomer']\n",
    "b=['Tomer','Tushar']\n",
    "print(a+b)\n",
    "print(b+a)\n",
    "print(type(a))"
   ]
  },
  {
   "cell_type": "code",
   "execution_count": 21,
   "id": "9a94fd95",
   "metadata": {},
   "outputs": [
    {
     "name": "stdout",
     "output_type": "stream",
     "text": [
      "('deepanshu', 'verma', 'deepanshu', 'verma')\n",
      "('verma', 'deepanshu', 'verma', 'deepanshu', 'verma', 'deepanshu', 'verma', 'deepanshu', 'verma', 'deepanshu', 'verma', 'deepanshu', 'verma', 'deepanshu', 'verma', 'deepanshu', 'verma', 'deepanshu', 'verma', 'deepanshu')\n",
      "20\n"
     ]
    }
   ],
   "source": [
    "# Repetition of tuple\n",
    "tup1=('deepanshu','verma')\n",
    "tup2=('verma','deepanshu')\n",
    "print(tup1*2)\n",
    "print(tup2*10)\n",
    "print(len(tup2*10))"
   ]
  },
  {
   "cell_type": "code",
   "execution_count": 22,
   "id": "66336dfc",
   "metadata": {},
   "outputs": [
    {
     "name": "stdout",
     "output_type": "stream",
     "text": [
      "(1, 2, 3, 4, 5, 1, 2, 3, 4, 5)\n"
     ]
    }
   ],
   "source": [
    "t=(1,2,3,4,5)\n",
    "print(t*2)"
   ]
  },
  {
   "cell_type": "code",
   "execution_count": 37,
   "id": "541f9c60",
   "metadata": {},
   "outputs": [
    {
     "name": "stdout",
     "output_type": "stream",
     "text": [
      "('a', 'quick', 'brown', 'fox', 'jumps', 'over', 'the', 'lazy', 'dog')\n"
     ]
    }
   ],
   "source": [
    "print(tup)"
   ]
  },
  {
   "cell_type": "code",
   "execution_count": 40,
   "id": "7331f93a",
   "metadata": {},
   "outputs": [
    {
     "name": "stdout",
     "output_type": "stream",
     "text": [
      "7\n"
     ]
    }
   ],
   "source": [
    "print(tup.index('lazy'))"
   ]
  },
  {
   "cell_type": "code",
   "execution_count": 38,
   "id": "44c1707e",
   "metadata": {},
   "outputs": [
    {
     "name": "stdout",
     "output_type": "stream",
     "text": [
      "4\n"
     ]
    }
   ],
   "source": [
    "print(TUP.count('o'))"
   ]
  },
  {
   "cell_type": "code",
   "execution_count": 4,
   "id": "9293cec1",
   "metadata": {},
   "outputs": [
    {
     "name": "stdout",
     "output_type": "stream",
     "text": [
      "[1, 2, 4]\n"
     ]
    }
   ],
   "source": [
    "# Tuple does not delete index value only list can delete index value\n",
    "a=(1,2,3,4)\n",
    "b=list(a)\n",
    "del b[2]\n",
    "print(b)"
   ]
  },
  {
   "cell_type": "code",
   "execution_count": 6,
   "id": "efb7ce96",
   "metadata": {},
   "outputs": [
    {
     "name": "stdout",
     "output_type": "stream",
     "text": [
      "[1, 2, 3, 3, 3, 4, 5, 6, 7, 43, 55, 56, 67, 76, 76]\n",
      "[76, 76, 67, 56, 55, 43, 7, 6, 5, 4, 3, 3, 3, 2, 1]\n",
      "1\n",
      "76\n",
      "7\n",
      "407\n"
     ]
    }
   ],
   "source": [
    "t=(1,55,2,6,3,56,3,7,76,76,4,67,43,5,3)\n",
    "print(sorted(t))\n",
    "print(sorted(t,reverse=True))\n",
    "print(min(t))\n",
    "print(max(t))\n",
    "print(t[len(t)//2])\n",
    "print(sum(t))"
   ]
  },
  {
   "cell_type": "code",
   "execution_count": 36,
   "id": "45bec29d",
   "metadata": {},
   "outputs": [
    {
     "name": "stdout",
     "output_type": "stream",
     "text": [
      "4\n"
     ]
    }
   ],
   "source": [
    "L=[1,2,3,4,5,6,7,9]\n",
    "a=len(L)//2\n",
    "print(a)"
   ]
  },
  {
   "cell_type": "code",
   "execution_count": 80,
   "id": "9b166b4f",
   "metadata": {},
   "outputs": [
    {
     "name": "stdout",
     "output_type": "stream",
     "text": [
      "4.5\n"
     ]
    }
   ],
   "source": [
    "import numpy as np\n",
    "z=np.array(L)\n",
    "print(np.median(z))"
   ]
  },
  {
   "cell_type": "code",
   "execution_count": 37,
   "id": "fc77dca9",
   "metadata": {},
   "outputs": [
    {
     "name": "stdout",
     "output_type": "stream",
     "text": [
      "[1, 2, 3, 4]\n",
      "2.5\n"
     ]
    }
   ],
   "source": [
    "first=L[:a]\n",
    "print(first)\n",
    "av1=sum(first)/len(first)\n",
    "print(av1)"
   ]
  },
  {
   "cell_type": "code",
   "execution_count": 78,
   "id": "d0a85b66",
   "metadata": {},
   "outputs": [
    {
     "name": "stdout",
     "output_type": "stream",
     "text": [
      "[5, 6, 7, 9]\n",
      "6.75\n"
     ]
    }
   ],
   "source": [
    "second=L[a:]\n",
    "print(second)\n",
    "av2=sum(second)/len(second)\n",
    "print(av2)"
   ]
  },
  {
   "cell_type": "code",
   "execution_count": 82,
   "id": "6824958e",
   "metadata": {},
   "outputs": [
    {
     "data": {
      "text/plain": [
       "4.625"
      ]
     },
     "execution_count": 82,
     "metadata": {},
     "output_type": "execute_result"
    }
   ],
   "source": [
    "(6.75+2.5)/2"
   ]
  },
  {
   "cell_type": "code",
   "execution_count": 38,
   "id": "5f28f56e",
   "metadata": {},
   "outputs": [],
   "source": [
    "# delete\n",
    "del tup\n"
   ]
  },
  {
   "cell_type": "code",
   "execution_count": 39,
   "id": "e930c9bf",
   "metadata": {},
   "outputs": [
    {
     "ename": "NameError",
     "evalue": "name 'tup' is not defined",
     "output_type": "error",
     "traceback": [
      "\u001b[1;31m---------------------------------------------------------------------------\u001b[0m",
      "\u001b[1;31mNameError\u001b[0m                                 Traceback (most recent call last)",
      "Input \u001b[1;32mIn [39]\u001b[0m, in \u001b[0;36m<cell line: 1>\u001b[1;34m()\u001b[0m\n\u001b[1;32m----> 1\u001b[0m \u001b[38;5;28mprint\u001b[39m(\u001b[43mtup\u001b[49m)\n",
      "\u001b[1;31mNameError\u001b[0m: name 'tup' is not defined"
     ]
    }
   ],
   "source": [
    "print(tup)"
   ]
  },
  {
   "cell_type": "code",
   "execution_count": 9,
   "id": "a2988993",
   "metadata": {},
   "outputs": [
    {
     "name": "stdout",
     "output_type": "stream",
     "text": [
      "a quick brown fox jumps over the lazy dogs\n"
     ]
    },
    {
     "ename": "NameError",
     "evalue": "name 'a' is not defined",
     "output_type": "error",
     "traceback": [
      "\u001b[1;31m---------------------------------------------------------------------------\u001b[0m",
      "\u001b[1;31mNameError\u001b[0m                                 Traceback (most recent call last)",
      "Input \u001b[1;32mIn [9]\u001b[0m, in \u001b[0;36m<cell line: 4>\u001b[1;34m()\u001b[0m\n\u001b[0;32m      2\u001b[0m \u001b[38;5;28mprint\u001b[39m(a)\n\u001b[0;32m      3\u001b[0m \u001b[38;5;28;01mdel\u001b[39;00m a\n\u001b[1;32m----> 4\u001b[0m \u001b[38;5;28mprint\u001b[39m(\u001b[43ma\u001b[49m)\n",
      "\u001b[1;31mNameError\u001b[0m: name 'a' is not defined"
     ]
    }
   ],
   "source": [
    "a='a quick brown fox jumps over the lazy dogs'\n",
    "print(a)\n",
    "del a\n",
    "print(a)"
   ]
  },
  {
   "cell_type": "code",
   "execution_count": 24,
   "id": "482ed318",
   "metadata": {},
   "outputs": [
    {
     "name": "stdout",
     "output_type": "stream",
     "text": [
      "['a', 'brown', 'dog', 'fox', 'jumps', 'lazy', 'over', 'quick', 'the']\n",
      "<class 'list'>\n"
     ]
    }
   ],
   "source": [
    "X=sorted(tup) # arrange in ascending order and return in a list\n",
    "print(X)\n",
    "print(type(X))"
   ]
  },
  {
   "cell_type": "code",
   "execution_count": 84,
   "id": "1a3e8bf5",
   "metadata": {},
   "outputs": [
    {
     "data": {
      "text/plain": [
       "['A', 'a']"
      ]
     },
     "execution_count": 84,
     "metadata": {},
     "output_type": "execute_result"
    }
   ],
   "source": [
    "x='a','A'\n",
    "x=sorted(x)\n",
    "x"
   ]
  },
  {
   "cell_type": "code",
   "execution_count": 29,
   "id": "2fa37485",
   "metadata": {},
   "outputs": [
    {
     "name": "stdout",
     "output_type": "stream",
     "text": [
      "65\n"
     ]
    }
   ],
   "source": [
    "print(ord('A'))"
   ]
  },
  {
   "cell_type": "code",
   "execution_count": 12,
   "id": "a3df64f1",
   "metadata": {},
   "outputs": [
    {
     "name": "stdout",
     "output_type": "stream",
     "text": [
      "Z\n"
     ]
    }
   ],
   "source": [
    "print(chr(90))"
   ]
  },
  {
   "cell_type": "code",
   "execution_count": 16,
   "id": "9bdfaa59",
   "metadata": {},
   "outputs": [
    {
     "name": "stdout",
     "output_type": "stream",
     "text": [
      "A is a Value of 65 in ASSCAI Table\n",
      "B is a Value of 66 in ASSCAI Table\n",
      "C is a Value of 67 in ASSCAI Table\n",
      "D is a Value of 68 in ASSCAI Table\n",
      "E is a Value of 69 in ASSCAI Table\n",
      "F is a Value of 70 in ASSCAI Table\n",
      "G is a Value of 71 in ASSCAI Table\n",
      "H is a Value of 72 in ASSCAI Table\n",
      "I is a Value of 73 in ASSCAI Table\n",
      "J is a Value of 74 in ASSCAI Table\n",
      "K is a Value of 75 in ASSCAI Table\n",
      "L is a Value of 76 in ASSCAI Table\n",
      "M is a Value of 77 in ASSCAI Table\n",
      "N is a Value of 78 in ASSCAI Table\n",
      "O is a Value of 79 in ASSCAI Table\n",
      "P is a Value of 80 in ASSCAI Table\n",
      "Q is a Value of 81 in ASSCAI Table\n",
      "R is a Value of 82 in ASSCAI Table\n",
      "S is a Value of 83 in ASSCAI Table\n",
      "T is a Value of 84 in ASSCAI Table\n",
      "U is a Value of 85 in ASSCAI Table\n",
      "V is a Value of 86 in ASSCAI Table\n",
      "W is a Value of 87 in ASSCAI Table\n",
      "X is a Value of 88 in ASSCAI Table\n",
      "Y is a Value of 89 in ASSCAI Table\n",
      "Z is a Value of 90 in ASSCAI Table\n"
     ]
    }
   ],
   "source": [
    "# ASSCAI Value Of Alphabets\n",
    "for i in range(65,91):\n",
    "    print(chr(i),'is a Value of',i,'in ASSCAI Table')"
   ]
  },
  {
   "cell_type": "code",
   "execution_count": 19,
   "id": "68494157",
   "metadata": {},
   "outputs": [
    {
     "name": "stdout",
     "output_type": "stream",
     "text": [
      "a is a Value of 97 in ASSCAI Table\n",
      "b is a Value of 98 in ASSCAI Table\n",
      "c is a Value of 99 in ASSCAI Table\n",
      "d is a Value of 100 in ASSCAI Table\n",
      "e is a Value of 101 in ASSCAI Table\n",
      "f is a Value of 102 in ASSCAI Table\n",
      "g is a Value of 103 in ASSCAI Table\n",
      "h is a Value of 104 in ASSCAI Table\n",
      "i is a Value of 105 in ASSCAI Table\n",
      "j is a Value of 106 in ASSCAI Table\n",
      "k is a Value of 107 in ASSCAI Table\n",
      "l is a Value of 108 in ASSCAI Table\n",
      "m is a Value of 109 in ASSCAI Table\n",
      "n is a Value of 110 in ASSCAI Table\n",
      "o is a Value of 111 in ASSCAI Table\n",
      "p is a Value of 112 in ASSCAI Table\n",
      "q is a Value of 113 in ASSCAI Table\n",
      "r is a Value of 114 in ASSCAI Table\n",
      "s is a Value of 115 in ASSCAI Table\n",
      "t is a Value of 116 in ASSCAI Table\n",
      "u is a Value of 117 in ASSCAI Table\n",
      "v is a Value of 118 in ASSCAI Table\n",
      "w is a Value of 119 in ASSCAI Table\n",
      "x is a Value of 120 in ASSCAI Table\n",
      "y is a Value of 121 in ASSCAI Table\n",
      "z is a Value of 122 in ASSCAI Table\n"
     ]
    }
   ],
   "source": [
    "for i in range(97,123):\n",
    "    print(chr(i),'is a Value of',i,'in ASSCAI Table')"
   ]
  },
  {
   "cell_type": "code",
   "execution_count": 30,
   "id": "994239fe",
   "metadata": {},
   "outputs": [
    {
     "name": "stdout",
     "output_type": "stream",
     "text": [
      "97\n"
     ]
    }
   ],
   "source": [
    "print(ord('a'))"
   ]
  },
  {
   "cell_type": "code",
   "execution_count": 17,
   "id": "8fd16af7",
   "metadata": {},
   "outputs": [
    {
     "name": "stdout",
     "output_type": "stream",
     "text": [
      "122\n"
     ]
    }
   ],
   "source": [
    "print(ord('z'))"
   ]
  },
  {
   "cell_type": "code",
   "execution_count": 21,
   "id": "1b1f4906",
   "metadata": {},
   "outputs": [
    {
     "name": "stdout",
     "output_type": "stream",
     "text": [
      "T\n"
     ]
    }
   ],
   "source": [
    "print(chr(84))"
   ]
  },
  {
   "cell_type": "code",
   "execution_count": 25,
   "id": "adc211b5",
   "metadata": {},
   "outputs": [
    {
     "name": "stdout",
     "output_type": "stream",
     "text": [
      "['the', 'quick', 'over', 'lazy', 'jumps', 'fox', 'dog', 'brown', 'a']\n"
     ]
    }
   ],
   "source": [
    "X=sorted(X,reverse=True) # arrange in descending order and return in a list\n",
    "print(X)"
   ]
  },
  {
   "cell_type": "code",
   "execution_count": 27,
   "id": "4c5c6025",
   "metadata": {},
   "outputs": [
    {
     "name": "stdout",
     "output_type": "stream",
     "text": [
      "a\n",
      "the\n",
      "['the', 'quick', 'over', 'lazy', 'jumps', 'fox', 'dog', 'brown', 'a']\n"
     ]
    }
   ],
   "source": [
    "print(min(X))\n",
    "print(max(X))\n",
    "print(X)"
   ]
  },
  {
   "cell_type": "code",
   "execution_count": 29,
   "id": "626b3938",
   "metadata": {},
   "outputs": [
    {
     "name": "stdout",
     "output_type": "stream",
     "text": [
      "[1, 2, 3, 4, 5, 6, 7, 8, 9, 10]\n",
      "55\n"
     ]
    }
   ],
   "source": [
    "t=(10,9,8,7,6,5,4,3,2,1)\n",
    "t=sorted(t)\n",
    "print(t)\n",
    "print(sum(t))"
   ]
  },
  {
   "cell_type": "code",
   "execution_count": 33,
   "id": "920c77fb",
   "metadata": {},
   "outputs": [
    {
     "name": "stdout",
     "output_type": "stream",
     "text": [
      "10\n"
     ]
    }
   ],
   "source": [
    "a=1,2,3,4\n",
    "print(sum(a))"
   ]
  },
  {
   "cell_type": "code",
   "execution_count": null,
   "id": "7613e383",
   "metadata": {},
   "outputs": [],
   "source": [
    "a=[1,2,3,4]\n",
    "print(sum(a))"
   ]
  },
  {
   "cell_type": "code",
   "execution_count": 32,
   "id": "a089d03c",
   "metadata": {},
   "outputs": [
    {
     "name": "stdout",
     "output_type": "stream",
     "text": [
      "10\n"
     ]
    }
   ],
   "source": [
    "a={1,2,3,4}\n",
    "print(sum(a))"
   ]
  },
  {
   "cell_type": "code",
   "execution_count": 86,
   "id": "61dccf45",
   "metadata": {},
   "outputs": [
    {
     "name": "stdout",
     "output_type": "stream",
     "text": [
      "[10, 9, 8, 7, 6, 5, 4, 3, 2, 1]\n"
     ]
    }
   ],
   "source": [
    "c=sorted(t,reverse=True)\n",
    "print(c)"
   ]
  },
  {
   "cell_type": "code",
   "execution_count": 87,
   "id": "ae6817e1",
   "metadata": {},
   "outputs": [
    {
     "name": "stdout",
     "output_type": "stream",
     "text": [
      "[1, 2, 3, 4, 5, 6, 7, 8, 9, 10]\n"
     ]
    }
   ],
   "source": [
    "print(t)"
   ]
  },
  {
   "cell_type": "code",
   "execution_count": 33,
   "id": "ea53dbf9",
   "metadata": {},
   "outputs": [
    {
     "name": "stdout",
     "output_type": "stream",
     "text": [
      "[10, 9, 8, 7, 6, 5, 4, 3, 2, 1]\n"
     ]
    }
   ],
   "source": [
    "t=sorted(t,reverse=True) # descending order\n",
    "print(t)"
   ]
  },
  {
   "cell_type": "code",
   "execution_count": 34,
   "id": "8ae82197",
   "metadata": {},
   "outputs": [
    {
     "name": "stdout",
     "output_type": "stream",
     "text": [
      "97\n",
      "65\n"
     ]
    }
   ],
   "source": [
    "print(ord('a'))\n",
    "print(ord('A'))"
   ]
  },
  {
   "cell_type": "code",
   "execution_count": 35,
   "id": "8f8e4f81",
   "metadata": {},
   "outputs": [
    {
     "name": "stdout",
     "output_type": "stream",
     "text": [
      "['a', 'A']\n"
     ]
    }
   ],
   "source": [
    "tp=('A','a')\n",
    "tp=sorted(tp,reverse=True)\n",
    "print(tp)"
   ]
  },
  {
   "cell_type": "code",
   "execution_count": 36,
   "id": "2d04cafa",
   "metadata": {},
   "outputs": [
    {
     "name": "stdout",
     "output_type": "stream",
     "text": [
      "('a', 'quick', 'brown', 'fox', 'jumps', 'over', 'the', 'lazy', 'dog')\n"
     ]
    }
   ],
   "source": [
    "print(tup)"
   ]
  },
  {
   "cell_type": "code",
   "execution_count": 40,
   "id": "11ca8a54",
   "metadata": {},
   "outputs": [
    {
     "name": "stdout",
     "output_type": "stream",
     "text": [
      "a\n",
      "the\n"
     ]
    }
   ],
   "source": [
    "\n",
    "T=min(tup)\n",
    "print(T)\n",
    "print(max(tup))"
   ]
  },
  {
   "cell_type": "code",
   "execution_count": 10,
   "id": "783a127f",
   "metadata": {},
   "outputs": [
    {
     "name": "stdout",
     "output_type": "stream",
     "text": [
      "1\n",
      "(9, 8, 7, 6, 5, 4, 3, 2, 1)\n"
     ]
    }
   ],
   "source": [
    "t=(9,8,7,6,5,4,3,2,1)\n",
    "# print(t)\n",
    "x=min(t)\n",
    "print(x)\n",
    "print(t)"
   ]
  },
  {
   "cell_type": "code",
   "execution_count": 39,
   "id": "05ab9684",
   "metadata": {},
   "outputs": [
    {
     "name": "stdout",
     "output_type": "stream",
     "text": [
      "10\n"
     ]
    }
   ],
   "source": [
    "t=(10,9,8,7,6,5,4,3,2,1)\n",
    "\n",
    "y=max(t)\n",
    "print(y)"
   ]
  },
  {
   "cell_type": "code",
   "execution_count": 41,
   "id": "eeea5620",
   "metadata": {},
   "outputs": [
    {
     "name": "stdout",
     "output_type": "stream",
     "text": [
      "('a', 'quick', 'brown', 'fox', 'jumps', 'over', 'the', 'lazy', 'dog')\n"
     ]
    }
   ],
   "source": [
    "print(tup)"
   ]
  },
  {
   "cell_type": "code",
   "execution_count": 42,
   "id": "87343d23",
   "metadata": {},
   "outputs": [
    {
     "name": "stdout",
     "output_type": "stream",
     "text": [
      "55\n"
     ]
    }
   ],
   "source": [
    "print(sum(t))"
   ]
  },
  {
   "cell_type": "code",
   "execution_count": 79,
   "id": "7d7b0660",
   "metadata": {},
   "outputs": [
    {
     "name": "stdout",
     "output_type": "stream",
     "text": [
      "<class 'tuple'> (1, 2)\n"
     ]
    }
   ],
   "source": [
    "name=1,2\n",
    "print(type(name),name)"
   ]
  },
  {
   "cell_type": "code",
   "execution_count": 46,
   "id": "dbeceb9f",
   "metadata": {},
   "outputs": [],
   "source": [
    "# advance indexing and slicing"
   ]
  },
  {
   "cell_type": "code",
   "execution_count": 97,
   "id": "5c7c493b",
   "metadata": {},
   "outputs": [
    {
     "name": "stdout",
     "output_type": "stream",
     "text": [
      "((10, 20, 30), (40, 50, 60), (70, 80, 90), (11, 22, 33), (44, 55, 66), (77, 88, 99), (12, 13, 14))\n",
      "7\n"
     ]
    }
   ],
   "source": [
    "x=((10,20,30),(40,50,60),(70,80,90),(11,22,33),(44,55,66),(77,88,99),(12,13,14)) # nested tuple\n",
    "print(x)\n",
    "print(len(x))\n"
   ]
  },
  {
   "cell_type": "code",
   "execution_count": 80,
   "id": "441601fd",
   "metadata": {},
   "outputs": [
    {
     "name": "stdout",
     "output_type": "stream",
     "text": [
      "True\n"
     ]
    }
   ],
   "source": [
    "name='deepansu'\n",
    "print('d' in name)"
   ]
  },
  {
   "cell_type": "code",
   "execution_count": 101,
   "id": "803fbcc7",
   "metadata": {},
   "outputs": [
    {
     "name": "stdout",
     "output_type": "stream",
     "text": [
      "deepanshu\n"
     ]
    }
   ],
   "source": [
    "t='deepanshu',\n",
    "for i in t:\n",
    "    print(i)"
   ]
  },
  {
   "cell_type": "code",
   "execution_count": 99,
   "id": "eb00d125",
   "metadata": {},
   "outputs": [
    {
     "name": "stdout",
     "output_type": "stream",
     "text": [
      "False\n"
     ]
    }
   ],
   "source": [
    "x='deepanhsu',\n",
    "\n",
    "print('a' in x)"
   ]
  },
  {
   "cell_type": "code",
   "execution_count": 39,
   "id": "4c18538a",
   "metadata": {},
   "outputs": [
    {
     "name": "stdout",
     "output_type": "stream",
     "text": [
      "26 aquickbrownfxjmpsvethlzydg\n",
      "abcdefghijklmnopqrstuvwxyz\n"
     ]
    }
   ],
   "source": [
    "mystr='aquickbrownfoxjumpsoverthelazydog'\n",
    "st=''\n",
    "seq=''\n",
    "for i in mystr:\n",
    "    if i not in st:\n",
    "        st=st+i\n",
    "print(len(st),st)\n",
    "l=sorted(st)\n",
    "for j in l:\n",
    "    seq=seq+j\n",
    "print(seq)"
   ]
  },
  {
   "cell_type": "code",
   "execution_count": 48,
   "id": "cb4af749",
   "metadata": {},
   "outputs": [
    {
     "name": "stdout",
     "output_type": "stream",
     "text": [
      "55\n",
      "70\n"
     ]
    }
   ],
   "source": [
    "x=((10,20,30),(40,50,60),(70,80,90),(11,22,33),(44,55,66),(77,88,99),(12,13,14)) \n",
    "# print(x[1])\n",
    "# print(x[0:])\n",
    "# print(x[:5])\n",
    "# print(x[1:5])\n",
    "# print(x[-4:])\n",
    "# print(x[:-4])\n",
    "# print(x[-4])\n",
    "# print(x[0:7:2])\n",
    "# print(x[3:][1])\n",
    "# print(x[-5:-3])\n",
    "# print(x[2:3])\n",
    "# print(x[2][0])\n",
    "# print(x[4][1])\n",
    "# print(x[4:5][0][1])\n",
    "# print(x[2:3][0])\n",
    "# print(x[2:3][0][0])\n",
    "# print(x[2:4][0][0])\n",
    "# print(x[2:4][0:2])\n",
    "# print(x[2:4][1][1])\n",
    "# print(x[2:3][0][0][1])\n",
    "# print(x[0:][6][2])\n",
    "# print(x[5:7][1][2])\n",
    "# print(x[2:][2][2])\n",
    "# print(x[2:][2][3])\n",
    "# print(x[2:][2][100:1])\n",
    "# print(x[-4:])\n",
    "# print(x[-4:][1])\n",
    "# print(x[-4:][-1])\n",
    "# print(x[-4:][1][0])\n",
    "# print(x[-4:][3])\n",
    "# print(x[-4:][3][2])\n",
    "# print('-------------------------------------------------------------------')\n",
    "# print(x[0:][2][1])\n",
    "# print(x[2:3][0][1])\n",
    "# print(x[-1:][0])\n",
    "# print(x[-1:][0][0])\n",
    "# print(x[-2:][1][0])\n",
    "# print(x[0:][0][2])\n"
   ]
  },
  {
   "cell_type": "code",
   "execution_count": 71,
   "id": "a8871584",
   "metadata": {},
   "outputs": [
    {
     "name": "stdout",
     "output_type": "stream",
     "text": [
      "100\n",
      "98\n",
      "96\n",
      "94\n",
      "92\n",
      "90\n",
      "88\n",
      "86\n",
      "84\n",
      "82\n",
      "80\n",
      "78\n",
      "76\n",
      "74\n",
      "72\n",
      "70\n",
      "68\n",
      "66\n",
      "64\n",
      "62\n",
      "60\n",
      "58\n",
      "56\n",
      "54\n",
      "52\n",
      "50\n",
      "48\n",
      "46\n",
      "44\n",
      "42\n",
      "40\n",
      "38\n",
      "36\n",
      "34\n",
      "32\n",
      "30\n",
      "28\n",
      "26\n",
      "24\n",
      "22\n",
      "20\n",
      "18\n",
      "16\n",
      "14\n",
      "12\n",
      "10\n",
      "8\n",
      "6\n",
      "4\n",
      "2\n"
     ]
    }
   ],
   "source": [
    "for i in range(100,0,-2):\n",
    "    print(i)"
   ]
  },
  {
   "cell_type": "code",
   "execution_count": 50,
   "id": "df9fd1a0",
   "metadata": {},
   "outputs": [
    {
     "name": "stdout",
     "output_type": "stream",
     "text": [
      "90 (12, 13, 14)\n",
      "90 (12, 13, 14)\n"
     ]
    }
   ],
   "source": [
    "x=((10,20,30),(40,50,60),(70,80,90),(11,22,33),(44,55,66),(77,88,99),(12,13,14))\n",
    "# print(x[-4:][1][0])\n",
    "# print(x[-4:][3])\n",
    "# print(x[-4:][3][2])\n",
    "# print(x[0:][2][1])\n",
    "# print(x[2:3][0][1])\n",
    "# print(x[-1:][0])\n",
    "# print(x[-1:][0][0])\n",
    "# print(x[-2:][1][0])\n",
    "# print(x[0:][0][2])\n",
    "# print(x[2][3])\n",
    "# print(x[2:-6])\n",
    "# print(x[0:2][2][3])\n",
    "# print(x[2:][:2])\n",
    "print(x[2:][:2][0][-1],x[-1])\n",
    "print(x[:4][2][2],x[-1])\n",
    "\n",
    "\n",
    "\n"
   ]
  },
  {
   "cell_type": "code",
   "execution_count": 82,
   "id": "01948598",
   "metadata": {},
   "outputs": [
    {
     "name": "stdout",
     "output_type": "stream",
     "text": [
      "['a', 'b', 'c', 'd', 'e', 'f', 'g', 'h', 'i', 'j', 'k', 'l', 'm', 'n', 'o', 'p', 'q', 'r', 's', 't', 'u', 'v', 'w', 'x', 'y', 'z']\n",
      "abcdefghijklmnopqrstuvwxyz\n",
      "26 abcdefghijklmnopqrstuvwxyz\n"
     ]
    }
   ],
   "source": [
    "name='a quick brown fox jumps over the lazy dog'\n",
    "\n",
    "s=''\n",
    "S=''\n",
    "for i in name:\n",
    "    if i.isspace() or i in s:\n",
    "        pass\n",
    "    else:\n",
    "        s=s+i\n",
    "y=sorted(s)\n",
    "print(y)\n",
    "print(''.join(y))\n",
    "for j in y:\n",
    "    S=S+j\n",
    "print(len(S),S)"
   ]
  },
  {
   "cell_type": "code",
   "execution_count": null,
   "id": "2ea1875a",
   "metadata": {},
   "outputs": [],
   "source": []
  },
  {
   "cell_type": "code",
   "execution_count": null,
   "id": "63dcdb2a",
   "metadata": {},
   "outputs": [],
   "source": []
  },
  {
   "cell_type": "code",
   "execution_count": 87,
   "id": "f0dd970d",
   "metadata": {},
   "outputs": [
    {
     "name": "stdout",
     "output_type": "stream",
     "text": [
      "D\n",
      "False\n"
     ]
    }
   ],
   "source": [
    "name='d'\n",
    "print(name.upper())\n",
    "print(name.isupper())"
   ]
  },
  {
   "cell_type": "code",
   "execution_count": 83,
   "id": "c805918a",
   "metadata": {},
   "outputs": [
    {
     "name": "stdout",
     "output_type": "stream",
     "text": [
      " A QUICK BROWN FOX JUMPS OVER THE LAZY DOG\n"
     ]
    }
   ],
   "source": [
    "name=' a quick brown fox jumps over the lazy dog'\n",
    "print(name.upper())"
   ]
  },
  {
   "cell_type": "code",
   "execution_count": null,
   "id": "c3621924",
   "metadata": {},
   "outputs": [],
   "source": [
    "'abcdefghijklmnopqrstuvwxyz'"
   ]
  },
  {
   "cell_type": "code",
   "execution_count": 54,
   "id": "59c0b327",
   "metadata": {},
   "outputs": [
    {
     "name": "stdout",
     "output_type": "stream",
     "text": [
      "(1, 3, 3, 4, 5)\n",
      "5\n",
      "(1, 3, 3, 4, 5)\n",
      "(1, 3, (3, 4), 5)\n"
     ]
    }
   ],
   "source": [
    "a=((1),3,(3,4),5)\n",
    "print(a[0:2]+a[2:3][0][0:2]+a[3:4])\n",
    "print(a[3])\n",
    "print(a[0:2]+a[2]+a[-1:])\n",
    "print(a)"
   ]
  },
  {
   "cell_type": "code",
   "execution_count": null,
   "id": "f5a202b5",
   "metadata": {},
   "outputs": [],
   "source": []
  },
  {
   "cell_type": "code",
   "execution_count": null,
   "id": "34a63da3",
   "metadata": {},
   "outputs": [],
   "source": []
  },
  {
   "cell_type": "code",
   "execution_count": null,
   "id": "45006d09",
   "metadata": {},
   "outputs": [],
   "source": []
  }
 ],
 "metadata": {
  "kernelspec": {
   "display_name": "Python 3 (ipykernel)",
   "language": "python",
   "name": "python3"
  },
  "language_info": {
   "codemirror_mode": {
    "name": "ipython",
    "version": 3
   },
   "file_extension": ".py",
   "mimetype": "text/x-python",
   "name": "python",
   "nbconvert_exporter": "python",
   "pygments_lexer": "ipython3",
   "version": "3.9.12"
  }
 },
 "nbformat": 4,
 "nbformat_minor": 5
}
